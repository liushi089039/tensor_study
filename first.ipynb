{
 "cells": [
  {
   "cell_type": "code",
   "execution_count": 4,
   "metadata": {
    "scrolled": false
   },
   "outputs": [
    {
     "name": "stdout",
     "output_type": "stream",
     "text": [
      "2\n"
     ]
    }
   ],
   "source": [
    "import numpy as np\n",
    "\n",
    "A = np.array(2)\n",
    "\n",
    "print(A)\n"
   ]
  },
  {
   "cell_type": "code",
   "execution_count": null,
   "metadata": {},
   "outputs": [],
   "source": [
    "mnist data regcontion"
   ]
  },
  {
   "cell_type": "code",
   "execution_count": 3,
   "metadata": {},
   "outputs": [
    {
     "name": "stdout",
     "output_type": "stream",
     "text": [
      "Extracting MNIST_data/train-images-idx3-ubyte.gz\n",
      "Extracting MNIST_data/train-labels-idx1-ubyte.gz\n",
      "Extracting MNIST_data/t10k-images-idx3-ubyte.gz\n",
      "Extracting MNIST_data/t10k-labels-idx1-ubyte.gz\n",
      "Tensor(\"Equal:0\", shape=(?,), dtype=bool)\n",
      "0.919\n"
     ]
    }
   ],
   "source": [
    "from tensorflow.examples.tutorials.mnist import input_data\n",
    "import tensorflow as tf\n",
    "mnist=input_data.read_data_sets(\"MNIST_data/\",one_hot=True)\n",
    "sess =tf.InteractiveSession()\n",
    "x=tf.placeholder(tf.float32,[None,784])\n",
    "w=tf.Variable(tf.zeros([784,10]))\n",
    "b=tf.Variable(tf.zeros([10]))\n",
    "y=tf.nn.softmax(tf.matmul(x,w)+b)\n",
    "y_=tf.placeholder(tf.float32,[None,10])\n",
    "cross_entropy=tf.reduce_mean(-tf.reduce_sum(y_*tf.log(y),[1]))\n",
    "train_step =tf.train.GradientDescentOptimizer(0.5).minimize(cross_entropy)\n",
    "tf.global_variables_initializer().run()\n",
    "\n",
    "for i in range(1000):\n",
    "    batch_xs,batch_ys = mnist.train.next_batch(100)\n",
    "    train_step.run({x:batch_xs,y_:batch_ys})\n",
    "correct_prediction= tf.equal(tf.argmax(y,1),tf.argmax(y_,1))\n",
    "print(correct_prediction)\n",
    "accuarcy =tf.reduce_mean(tf.cast(correct_prediction,tf.float32))\n",
    "print(accuarcy.eval({x:mnist.test.images,y_:mnist.test.labels}))\n",
    "\n"
   ]
  },
  {
   "cell_type": "code",
   "execution_count": null,
   "metadata": {},
   "outputs": [],
   "source": [
    "mnist data regcontion updata"
   ]
  },
  {
   "cell_type": "code",
   "execution_count": 14,
   "metadata": {},
   "outputs": [
    {
     "name": "stdout",
     "output_type": "stream",
     "text": [
      "Extracting MNIST_data/train-images-idx3-ubyte.gz\n",
      "Extracting MNIST_data/train-labels-idx1-ubyte.gz\n",
      "Extracting MNIST_data/t10k-images-idx3-ubyte.gz\n",
      "Extracting MNIST_data/t10k-labels-idx1-ubyte.gz\n",
      "Tensor(\"Equal_10:0\", shape=(?,), dtype=bool)\n",
      "0.9638\n"
     ]
    }
   ],
   "source": [
    "from tensorflow.examples.tutorials.mnist import input_data\n",
    "import tensorflow as tf\n",
    "mnist=input_data.read_data_sets(\"MNIST_data/\",one_hot=True)\n",
    "sess =tf.InteractiveSession()\n",
    "in_units=784\n",
    "h1_units=300\n",
    "w1=tf.Variable(tf.truncated_normal([in_units,h1_units],stddev=0.1))\n",
    "b1=tf.Variable(tf.zeros([h1_units]))\n",
    "w2=tf.Variable(tf.zeros([h1_units,10]))\n",
    "b2=tf.Variable(tf.zeros([10]))\n",
    "x=tf.placeholder(tf.float32,[None,in_units])\n",
    "keep_prob=tf.placeholder(tf.float32)\n",
    "hidden_layer1=tf.nn.relu(tf.matmul(x,w1)+b1)\n",
    "hidden_drop=tf.nn.dropout(hidden_layer1,keep_prob)\n",
    "y=tf.nn.softmax(tf.matmul(hidden_drop,w2)+b2)\n",
    "y_=tf.placeholder(tf.float32,[None,10])\n",
    "cross_entropy=tf.reduce_mean(-tf.reduce_sum(y_*tf.log(y),[1]))\n",
    "train_step =tf.train.GradientDescentOptimizer(0.3).minimize(cross_entropy)\n",
    "tf.global_variables_initializer().run()\n",
    "\n",
    "for i in range(1000):\n",
    "    batch_xs,batch_ys = mnist.train.next_batch(100)\n",
    "    train_step.run({x:batch_xs,y_:batch_ys,keep_prob:0.75})\n",
    "correct_prediction= tf.equal(tf.argmax(y,1),tf.argmax(y_,1))\n",
    "print(correct_prediction)\n",
    "accuarcy =tf.reduce_mean(tf.cast(correct_prediction,tf.float32))\n",
    "print(accuarcy.eval({x:mnist.test.images,y_:mnist.test.labels,keep_prob:1}))\n",
    "\n"
   ]
  },
  {
   "cell_type": "code",
   "execution_count": null,
   "metadata": {},
   "outputs": [],
   "source": [
    " "
   ]
  }
 ],
 "metadata": {
  "kernelspec": {
   "display_name": "Python 3",
   "language": "python",
   "name": "python3"
  },
  "language_info": {
   "codemirror_mode": {
    "name": "ipython",
    "version": 3
   },
   "file_extension": ".py",
   "mimetype": "text/x-python",
   "name": "python",
   "nbconvert_exporter": "python",
   "pygments_lexer": "ipython3",
   "version": "3.6.7"
  }
 },
 "nbformat": 4,
 "nbformat_minor": 2
}
