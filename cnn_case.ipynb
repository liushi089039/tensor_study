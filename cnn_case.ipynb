{
 "cells": [
  {
   "cell_type": "code",
   "execution_count": 1,
   "metadata": {
    "scrolled": true
   },
   "outputs": [
    {
     "ename": "SyntaxError",
     "evalue": "invalid syntax (<ipython-input-1-787ba06f4a6a>, line 1)",
     "output_type": "error",
     "traceback": [
      "\u001b[0;36m  File \u001b[0;32m\"<ipython-input-1-787ba06f4a6a>\"\u001b[0;36m, line \u001b[0;32m1\u001b[0m\n\u001b[0;31m    CNN net work\u001b[0m\n\u001b[0m          ^\u001b[0m\n\u001b[0;31mSyntaxError\u001b[0m\u001b[0;31m:\u001b[0m invalid syntax\n"
     ]
    }
   ],
   "source": [
    "CNN net work"
   ]
  },
  {
   "cell_type": "code",
   "execution_count": null,
   "metadata": {},
   "outputs": [
    {
     "name": "stdout",
     "output_type": "stream",
     "text": [
      "WARNING:tensorflow:From <ipython-input-1-d7595f4ab39b>:3: read_data_sets (from tensorflow.contrib.learn.python.learn.datasets.mnist) is deprecated and will be removed in a future version.\n",
      "Instructions for updating:\n",
      "Please use alternatives such as official/mnist/dataset.py from tensorflow/models.\n",
      "WARNING:tensorflow:From /home/lll/anaconda3/envs/tensorflow/lib/python3.6/site-packages/tensorflow/contrib/learn/python/learn/datasets/mnist.py:260: maybe_download (from tensorflow.contrib.learn.python.learn.datasets.base) is deprecated and will be removed in a future version.\n",
      "Instructions for updating:\n",
      "Please write your own downloading logic.\n",
      "WARNING:tensorflow:From /home/lll/anaconda3/envs/tensorflow/lib/python3.6/site-packages/tensorflow/contrib/learn/python/learn/datasets/mnist.py:262: extract_images (from tensorflow.contrib.learn.python.learn.datasets.mnist) is deprecated and will be removed in a future version.\n",
      "Instructions for updating:\n",
      "Please use tf.data to implement this functionality.\n",
      "Extracting MNIST_data/train-images-idx3-ubyte.gz\n",
      "WARNING:tensorflow:From /home/lll/anaconda3/envs/tensorflow/lib/python3.6/site-packages/tensorflow/contrib/learn/python/learn/datasets/mnist.py:267: extract_labels (from tensorflow.contrib.learn.python.learn.datasets.mnist) is deprecated and will be removed in a future version.\n",
      "Instructions for updating:\n",
      "Please use tf.data to implement this functionality.\n",
      "Extracting MNIST_data/train-labels-idx1-ubyte.gz\n",
      "WARNING:tensorflow:From /home/lll/anaconda3/envs/tensorflow/lib/python3.6/site-packages/tensorflow/contrib/learn/python/learn/datasets/mnist.py:110: dense_to_one_hot (from tensorflow.contrib.learn.python.learn.datasets.mnist) is deprecated and will be removed in a future version.\n",
      "Instructions for updating:\n",
      "Please use tf.one_hot on tensors.\n",
      "Extracting MNIST_data/t10k-images-idx3-ubyte.gz\n",
      "Extracting MNIST_data/t10k-labels-idx1-ubyte.gz\n",
      "WARNING:tensorflow:From /home/lll/anaconda3/envs/tensorflow/lib/python3.6/site-packages/tensorflow/contrib/learn/python/learn/datasets/mnist.py:290: DataSet.__init__ (from tensorflow.contrib.learn.python.learn.datasets.mnist) is deprecated and will be removed in a future version.\n",
      "Instructions for updating:\n",
      "Please use alternatives such as official/mnist/dataset.py from tensorflow/models.\n",
      "step 0,training accuracy 0.14\n",
      "step 100,training accuracy 0.11\n",
      "step 200,training accuracy 0.09\n",
      "step 300,training accuracy 0.07\n",
      "step 400,training accuracy 0.19\n",
      "step 500,training accuracy 0.29\n",
      "step 600,training accuracy 0.45\n",
      "step 700,training accuracy 0.54\n",
      "step 800,training accuracy 0.52\n",
      "step 900,training accuracy 0.63\n",
      "step 1000,training accuracy 0.64\n",
      "step 1100,training accuracy 0.68\n",
      "step 1200,training accuracy 0.68\n",
      "step 1300,training accuracy 0.68\n",
      "step 1400,training accuracy 0.85\n",
      "step 1500,training accuracy 0.71\n",
      "step 1600,training accuracy 0.71\n",
      "step 1700,training accuracy 0.79\n",
      "step 1800,training accuracy 0.85\n",
      "step 1900,training accuracy 0.78\n",
      "step 2000,training accuracy 0.73\n",
      "step 2100,training accuracy 0.8\n",
      "step 2200,training accuracy 0.8\n",
      "step 2300,training accuracy 0.83\n",
      "step 2400,training accuracy 0.77\n",
      "step 2500,training accuracy 0.9\n",
      "step 2600,training accuracy 0.91\n",
      "step 2700,training accuracy 0.85\n",
      "step 2800,training accuracy 0.89\n",
      "step 2900,training accuracy 0.88\n",
      "step 3000,training accuracy 0.91\n",
      "step 3100,training accuracy 0.87\n",
      "step 3200,training accuracy 0.92\n",
      "step 3300,training accuracy 0.95\n"
     ]
    }
   ],
   "source": [
    "from tensorflow.examples.tutorials.mnist import input_data\n",
    "import tensorflow as tf\n",
    "mnist=input_data.read_data_sets(\"MNIST_data/\",one_hot=True)\n",
    "sess =tf.InteractiveSession()\n",
    "\n",
    "def weight_variable(shape):\n",
    "    initial =tf.truncated_normal(shape,stddev=0.1)\n",
    "    return tf.Variable(initial)\n",
    "\n",
    "def bias_variable(shape):\n",
    "    initial =tf.constant(0.1,shape=shape)\n",
    "    return tf.Variable(initial)\n",
    "def conv2d(x,w):\n",
    "    return tf.nn.conv2d(x,w,strides=[1,1,1,1],padding='SAME')\n",
    "def max_pool_2X2(x):\n",
    "    return tf.nn.max_pool(x,ksize=[1,2,2,1],strides=[1,2,2,1],padding='SAME')\n",
    "x=tf.placeholder(tf.float32,[None,784])\n",
    "y_=tf.placeholder(tf.float32,[None,10])\n",
    "\n",
    "x_image =tf.reshape(x,[-1,28,28,1])\n",
    "\n",
    "w_conv1=weight_variable([5,5,1,32])\n",
    "b_conv1=bias_variable([32])\n",
    "h_conv1=tf.nn.relu(conv2d(x_image,w_conv1)+b_conv1)\n",
    "h_pool1=max_pool_2X2(h_conv1)\n",
    "\n",
    "w_conv2=weight_variable([5,5,32,64])\n",
    "b_conv2=bias_variable([64])\n",
    "h_conv2=tf.nn.relu(conv2d(h_pool1,w_conv2)+b_conv2)\n",
    "h_pool2=max_pool_2X2(h_conv2)\n",
    "\n",
    "w_fc1=weight_variable([7*7*64,1024])\n",
    "b_fc1=bias_variable([1024])\n",
    "h_pool2_flat =tf.reshape(h_pool2,[-1,7*7*64])\n",
    "h_fc1=tf.nn.relu(tf.matmul(h_pool2_flat,w_fc1)+b_fc1)\n",
    "\n",
    "keep_prob=tf.placeholder(tf.float32)\n",
    "h_fc1_drop=tf.nn.dropout(h_fc1,keep_prob)\n",
    "\n",
    "\n",
    "w_fc2=weight_variable([1024,10])\n",
    "b_fc2=bias_variable([10])\n",
    "h_fc2=tf.nn.relu(tf.matmul(h_fc1_drop,w_fc2)+b_fc2)\n",
    "y_conv =tf.nn.softmax(h_fc2)\n",
    "\n",
    "cross_entropy=tf.reduce_mean(-tf.reduce_sum(y_*tf.log(y_conv),[1]))\n",
    "train_step =tf.train.AdamOptimizer(1e-3).minimize(cross_entropy)\n",
    "tf.global_variables_initializer().run()\n",
    "correct_prediction= tf.equal(tf.argmax(y_conv,1),tf.argmax(y_,1))\n",
    "accuarcy =tf.reduce_mean(tf.cast(correct_prediction,tf.float32))\n",
    "for i in range(20000):\n",
    "    batch_xs,batch_ys = mnist.train.next_batch(100)\n",
    "    train_step.run({x:batch_xs,y_:batch_ys,keep_prob:0.75})\n",
    "    if(i%100 == 0):\n",
    "        train_accuracy = accuarcy.eval({x:batch_xs,y_:batch_ys,keep_prob:1})\n",
    "        print(\"step %d,training accuracy %g\"%(i,train_accuracy))\n",
    "\n",
    "\n",
    "print(accuarcy.eval({x:mnist.test.images,y_:mnist.test.labels,keep_prob:1}))\n"
   ]
  },
  {
   "cell_type": "code",
   "execution_count": null,
   "metadata": {},
   "outputs": [],
   "source": []
  }
 ],
 "metadata": {
  "kernelspec": {
   "display_name": "Python 3",
   "language": "python",
   "name": "python3"
  },
  "language_info": {
   "codemirror_mode": {
    "name": "ipython",
    "version": 3
   },
   "file_extension": ".py",
   "mimetype": "text/x-python",
   "name": "python",
   "nbconvert_exporter": "python",
   "pygments_lexer": "ipython3",
   "version": "3.6.7"
  }
 },
 "nbformat": 4,
 "nbformat_minor": 2
}
